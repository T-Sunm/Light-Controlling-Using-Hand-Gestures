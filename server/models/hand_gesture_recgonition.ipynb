{
 "cells": [
  {
   "cell_type": "code",
   "execution_count": 3,
   "metadata": {},
   "outputs": [
    {
     "name": "stdout",
     "output_type": "stream",
     "text": [
      "Collecting torchmetrics\n",
      "  Downloading torchmetrics-1.6.0-py3-none-any.whl.metadata (20 kB)\n",
      "Requirement already satisfied: numpy>1.20.0 in d:\\asus\\ungdung\\miniconda\\workspace\\envs\\gesture_env\\lib\\site-packages (from torchmetrics) (1.26.4)\n",
      "Requirement already satisfied: packaging>17.1 in d:\\asus\\ungdung\\miniconda\\workspace\\envs\\gesture_env\\lib\\site-packages (from torchmetrics) (24.2)\n",
      "Requirement already satisfied: torch>=2.0.0 in d:\\asus\\ungdung\\miniconda\\workspace\\envs\\gesture_env\\lib\\site-packages (from torchmetrics) (2.5.0)\n",
      "Collecting lightning-utilities>=0.8.0 (from torchmetrics)\n",
      "  Downloading lightning_utilities-0.11.9-py3-none-any.whl.metadata (5.2 kB)\n",
      "Requirement already satisfied: setuptools in d:\\asus\\ungdung\\miniconda\\workspace\\envs\\gesture_env\\lib\\site-packages (from lightning-utilities>=0.8.0->torchmetrics) (75.1.0)\n",
      "Requirement already satisfied: typing-extensions in d:\\asus\\ungdung\\miniconda\\workspace\\envs\\gesture_env\\lib\\site-packages (from lightning-utilities>=0.8.0->torchmetrics) (4.12.2)\n",
      "Requirement already satisfied: filelock in d:\\asus\\ungdung\\miniconda\\workspace\\envs\\gesture_env\\lib\\site-packages (from torch>=2.0.0->torchmetrics) (3.16.1)\n",
      "Requirement already satisfied: networkx in d:\\asus\\ungdung\\miniconda\\workspace\\envs\\gesture_env\\lib\\site-packages (from torch>=2.0.0->torchmetrics) (3.4.2)\n",
      "Requirement already satisfied: jinja2 in d:\\asus\\ungdung\\miniconda\\workspace\\envs\\gesture_env\\lib\\site-packages (from torch>=2.0.0->torchmetrics) (3.1.4)\n",
      "Requirement already satisfied: fsspec in d:\\asus\\ungdung\\miniconda\\workspace\\envs\\gesture_env\\lib\\site-packages (from torch>=2.0.0->torchmetrics) (2024.10.0)\n",
      "Requirement already satisfied: sympy==1.13.1 in d:\\asus\\ungdung\\miniconda\\workspace\\envs\\gesture_env\\lib\\site-packages (from torch>=2.0.0->torchmetrics) (1.13.1)\n",
      "Requirement already satisfied: mpmath<1.4,>=1.1.0 in d:\\asus\\ungdung\\miniconda\\workspace\\envs\\gesture_env\\lib\\site-packages (from sympy==1.13.1->torch>=2.0.0->torchmetrics) (1.3.0)\n",
      "Requirement already satisfied: MarkupSafe>=2.0 in d:\\asus\\ungdung\\miniconda\\workspace\\envs\\gesture_env\\lib\\site-packages (from jinja2->torch>=2.0.0->torchmetrics) (3.0.2)\n",
      "Downloading torchmetrics-1.6.0-py3-none-any.whl (926 kB)\n",
      "   ---------------------------------------- 0.0/926.4 kB ? eta -:--:--\n",
      "   --------------------------------------- 926.4/926.4 kB 14.1 MB/s eta 0:00:00\n",
      "Downloading lightning_utilities-0.11.9-py3-none-any.whl (28 kB)\n",
      "Installing collected packages: lightning-utilities, torchmetrics\n",
      "Successfully installed lightning-utilities-0.11.9 torchmetrics-1.6.0\n"
     ]
    }
   ],
   "source": [
    "! pip install torchmetrics"
   ]
  },
  {
   "cell_type": "code",
   "execution_count": 1,
   "metadata": {},
   "outputs": [],
   "source": [
    "import os\n",
    "import cv2\n",
    "import yaml\n",
    "import torch\n",
    "import numpy as np\n",
    "import pandas as pd\n",
    "from torch import nn\n",
    "import mediapipe as mp\n",
    "from torch import optim\n",
    "from datetime import datetime\n",
    "from torchmetrics import Accuracy\n",
    "from torch.utils.data import Dataset"
   ]
  },
  {
   "cell_type": "code",
   "execution_count": 2,
   "metadata": {},
   "outputs": [],
   "source": [
    "def label_dict_from_config_file(relative_path):\n",
    "    with open(relative_path,\"r\") as f:\n",
    "       label_tag = yaml.full_load(f)[\"gestures\"]\n",
    "    return label_tag"
   ]
  },
  {
   "cell_type": "code",
   "execution_count": null,
   "metadata": {},
   "outputs": [],
   "source": [
    "class NeuralNetwork(nn.Module):\n",
    "    def __init__(self):\n",
    "        super(NeuralNetwork, self).__init__()\n",
    "        self.flatten = nn.Flatten()\n",
    "        list_label = label_dict_from_config_file(\"../data/hand_gesture.yaml\")\n",
    "\n",
    "        '''Hoàn thành đoạn code để xây dựng một model gồm có 4 hidden layer,\n",
    "            lần lượng input và output là (63, 128), (128, 128), (128, 128), (128, 128).\n",
    "            Layer đầu tiên được theo sau bổi một Relu và Batchnorm1d.\n",
    "            Layer thứ 2, 3, và 4 được theo sau bỏi Relu và Dropout với rate lần lượt là 0.4, 0.4, 0.6.\n",
    "            Output layer có nhịêm vụ phân loại với input là 128 và output là số lượng class cử chỉ\n",
    "        '''\n",
    "        self.linear_relu_stack = nn.Sequential(\n",
    "            nn.Linear(63, 128), \n",
    "            nn.ReLU(),              \n",
    "            nn.BatchNorm1d(128),    \n",
    "            nn.Linear(128, 128),   \n",
    "            nn.ReLU(),         \n",
    "            nn.Dropout(0.4),      \n",
    "            nn.Linear(128, 128),     \n",
    "            nn.ReLU(),               \n",
    "            nn.Dropout(0.4),         \n",
    "            nn.Linear(128, 128),     \n",
    "            nn.ReLU(),               \n",
    "            nn.Dropout(0.6),        \n",
    "            nn.Linear(128, list_label)\n",
    "        )\n",
    "    def forward(self, x):\n",
    "\n",
    "        ''' Hoàn thành code để thực hiện forward dự đoán cử chỉ với input x.\n",
    "        Thực hiệnt flatten x\n",
    "        Pass x vừa flatten vào linear_relu_stack\n",
    "        Return  logits (outputs từ layer cuối cùng)\n",
    "        '''\n",
    "\n",
    "    def predict(self,x,threshold=0.8):\n",
    "        logits = self(x)\n",
    "        softmax_prob = nn.Softmax(dim=1)(logits)\n",
    "        chosen_ind = torch.argmax(softmax_prob,dim=1)\n",
    "        return torch.where(softmax_prob[0,chosen_ind]>threshold,chosen_ind,-1)\n",
    "\n",
    "    def predict_with_known_class(self,x):\n",
    "        logits = self(x)\n",
    "        softmax_prob = nn.Softmax(dim=1)(logits)\n",
    "        return torch.argmax(softmax_prob,dim=1)\n",
    "\n",
    "    def score(self,logits):\n",
    "        return -torch.amax(logits,dim=1)"
   ]
  }
 ],
 "metadata": {
  "kernelspec": {
   "display_name": "gesture_env",
   "language": "python",
   "name": "python3"
  },
  "language_info": {
   "codemirror_mode": {
    "name": "ipython",
    "version": 3
   },
   "file_extension": ".py",
   "mimetype": "text/x-python",
   "name": "python",
   "nbconvert_exporter": "python",
   "pygments_lexer": "ipython3",
   "version": "3.10.15"
  }
 },
 "nbformat": 4,
 "nbformat_minor": 2
}
